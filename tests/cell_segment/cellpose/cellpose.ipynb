{
 "cells": [
  {
   "cell_type": "markdown",
   "metadata": {},
   "source": [
    "# Cellpose\n",
    "\n",
    "## Usage\n",
    "\n",
    "- img restoration\n",
    "  - denoising\n",
    "  - deblurring\n",
    "  - upsampling\n",
    "- 3d cell segmentation\n",
    "- optimization for our own data\n",
    "\n",
    "## Requirements(Installation)\n",
    "\n",
    "```\n",
    "conda create --name cell python=3.8\n",
    "conda activate cell\n",
    "python -m pip install cellpose\n",
    "```\n",
    "\n",
    "### Optional\n",
    "\n",
    "if gui is needed:\n",
    "\n",
    "```\n",
    "python -m pip install cellpose[gui]\n",
    "```\n",
    "\n",
    "for zsh\n",
    "\n",
    "```\n",
    "python -m pip install 'cellpose[gui]'\n",
    "```\n"
   ]
  },
  {
   "cell_type": "markdown",
   "metadata": {},
   "source": [
    "## Image Restoration\n"
   ]
  },
  {
   "cell_type": "code",
   "execution_count": null,
   "metadata": {},
   "outputs": [],
   "source": [
    "\n",
    "\n"
   ]
  }
 ],
 "metadata": {
  "language_info": {
   "name": "python"
  }
 },
 "nbformat": 4,
 "nbformat_minor": 2
}
