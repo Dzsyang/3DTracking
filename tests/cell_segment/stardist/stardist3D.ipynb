{
 "cells": [
  {
   "cell_type": "markdown",
   "metadata": {},
   "source": [
    "# StarDist (3D)\n",
    "\n",
    "## Notice\n",
    "\n",
    "### no pre-trained model\n",
    "\n",
    "### training example\n",
    "\n",
    "see: [colab](https://colab.research.google.com/github/HenriquesLab/ZeroCostDL4Mic/blob/master/Colab_notebooks/StarDist_3D_ZeroCostDL4Mic.ipynb#scrollTo=9vC2n-HeLdiJ)\n",
    "\n",
    "### Acceleration of 3D Euclidean Distance Transform (EDT)\n",
    "\n",
    "see: [edt](https://github.com/seung-lab/euclidean-distance-transform-3d)\n",
    "\n",
    "```\n",
    "conda install -c conda-forge edt\n",
    "```\n"
   ]
  },
  {
   "cell_type": "code",
   "execution_count": null,
   "metadata": {},
   "outputs": [],
   "source": []
  }
 ],
 "metadata": {
  "language_info": {
   "name": "python"
  }
 },
 "nbformat": 4,
 "nbformat_minor": 2
}
