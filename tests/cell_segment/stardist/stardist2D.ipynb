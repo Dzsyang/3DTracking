{
 "cells": [
  {
   "cell_type": "markdown",
   "metadata": {},
   "source": [
    "# StarDist (2D)\n",
    "\n",
    "## Usage\n",
    "\n",
    "- 2d cell segmentation\n",
    "- optimization for our own data\n",
    "\n",
    "## Requirements(Installation)\n",
    "\n",
    "```\n",
    "conda create --name cell python=3.8\n",
    "conda activate cell\n",
    "python -m pip install stardist\n",
    "```\n"
   ]
  },
  {
   "cell_type": "code",
   "execution_count": null,
   "metadata": {},
   "outputs": [],
   "source": []
  }
 ],
 "metadata": {
  "language_info": {
   "name": "python"
  }
 },
 "nbformat": 4,
 "nbformat_minor": 2
}
